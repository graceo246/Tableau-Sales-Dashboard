{
  "nbformat": 4,
  "nbformat_minor": 0,
  "metadata": {
    "colab": {
      "provenance": []
    },
    "kernelspec": {
      "name": "python3",
      "display_name": "Python 3"
    },
    "language_info": {
      "name": "python"
    }
  },
  "cells": [
    {
      "cell_type": "markdown",
      "source": [
        "Import all necessary libraries"
      ],
      "metadata": {
        "id": "Wj6dyYCKfMIg"
      }
    },
    {
      "cell_type": "code",
      "source": [
        "import pandas as pd"
      ],
      "metadata": {
        "id": "sQ9G-xTwfQH3"
      },
      "execution_count": 60,
      "outputs": []
    },
    {
      "cell_type": "markdown",
      "source": [
        "Import Superstore and Customer data"
      ],
      "metadata": {
        "id": "yEq2sWcsfW_F"
      }
    },
    {
      "cell_type": "code",
      "source": [
        "df1= pd.read_csv('SuperstoreUnprocessed.csv')"
      ],
      "metadata": {
        "id": "lgZumsLqfUNY"
      },
      "execution_count": 61,
      "outputs": []
    },
    {
      "cell_type": "code",
      "source": [
        "df2=pd.read_csv('CustomerInformation.csv')"
      ],
      "metadata": {
        "id": "x6bQUg7SfodX"
      },
      "execution_count": 62,
      "outputs": []
    },
    {
      "cell_type": "markdown",
      "source": [
        "Merge the 2 datsets to create 1 big dataset"
      ],
      "metadata": {
        "id": "c565iNNBf06n"
      }
    },
    {
      "cell_type": "code",
      "source": [
        "MainDf=pd.concat([df1,df2], axis=1)"
      ],
      "metadata": {
        "id": "YUr8HnS2f88o"
      },
      "execution_count": 63,
      "outputs": []
    },
    {
      "cell_type": "markdown",
      "source": [
        "# **Clean and prepare data for analysis**"
      ],
      "metadata": {
        "id": "ZKYJ5W1CgIUf"
      }
    },
    {
      "cell_type": "markdown",
      "source": [
        "1. Check if all column have the correct data type and\n",
        "format"
      ],
      "metadata": {
        "id": "WIp9JHIjjq-M"
      }
    },
    {
      "cell_type": "code",
      "source": [
        "print(MainDf.dtypes)"
      ],
      "metadata": {
        "colab": {
          "base_uri": "https://localhost:8080/"
        },
        "id": "QKs191NJgK3D",
        "outputId": "4af40e47-e796-4432-b1f4-f402af69f1cc"
      },
      "execution_count": 64,
      "outputs": [
        {
          "output_type": "stream",
          "name": "stdout",
          "text": [
            "Row ID              int64\n",
            "Order ID           object\n",
            "Order Date         object\n",
            "Ship Date          object\n",
            "Ship Mode          object\n",
            "Customer ID        object\n",
            "Customer Name      object\n",
            "Segment            object\n",
            "Country            object\n",
            "City               object\n",
            "State              object\n",
            "Postal Code         int64\n",
            "Region             object\n",
            "Product ID         object\n",
            "Category           object\n",
            "Sub-Category       object\n",
            "Product Name       object\n",
            "Sales             float64\n",
            "Quantity            int64\n",
            "Discount          float64\n",
            " Profit            object\n",
            "age                 int64\n",
            "payment_method     object\n",
            "dtype: object\n"
          ]
        }
      ]
    },
    {
      "cell_type": "markdown",
      "source": [
        "'Order Date' and 'Ship date' were set to a string value, so I change it to the correct datatype using the built in datetime object in Pandas."
      ],
      "metadata": {
        "id": "HRkWzKvpj919"
      }
    },
    {
      "cell_type": "code",
      "source": [
        "MainDf['Order Date'] = pd.to_datetime(MainDf['Order Date'], format=\"%d/%m/%Y\")\n",
        "MainDf['Ship Date'] = pd.to_datetime(MainDf['Ship Date'], format=\"%d/%m/%Y\")"
      ],
      "metadata": {
        "id": "byl0pDYZixwJ"
      },
      "execution_count": 65,
      "outputs": []
    },
    {
      "cell_type": "markdown",
      "source": [
        "2. Check for number of null values for each column."
      ],
      "metadata": {
        "id": "H_W4RHjHkE6e"
      }
    },
    {
      "cell_type": "code",
      "source": [
        "print(MainDf.isnull().sum())"
      ],
      "metadata": {
        "colab": {
          "base_uri": "https://localhost:8080/"
        },
        "id": "RcU3F_vygP2a",
        "outputId": "b9ae873a-f73e-4319-cf02-4e1d332c0656"
      },
      "execution_count": 66,
      "outputs": [
        {
          "output_type": "stream",
          "name": "stdout",
          "text": [
            "Row ID            0\n",
            "Order ID          0\n",
            "Order Date        0\n",
            "Ship Date         0\n",
            "Ship Mode         0\n",
            "Customer ID       0\n",
            "Customer Name     0\n",
            "Segment           0\n",
            "Country           0\n",
            "City              0\n",
            "State             0\n",
            "Postal Code       0\n",
            "Region            0\n",
            "Product ID        0\n",
            "Category          0\n",
            "Sub-Category      0\n",
            "Product Name      0\n",
            "Sales             0\n",
            "Quantity          0\n",
            "Discount          0\n",
            " Profit           0\n",
            "age               0\n",
            "payment_method    0\n",
            "dtype: int64\n"
          ]
        }
      ]
    },
    {
      "cell_type": "code",
      "source": [
        "print(MainDf.head())"
      ],
      "metadata": {
        "colab": {
          "base_uri": "https://localhost:8080/"
        },
        "id": "u-c-vWweggJJ",
        "outputId": "6209ff9a-ca2d-465e-e0ab-8d8b798ee8de"
      },
      "execution_count": 67,
      "outputs": [
        {
          "output_type": "stream",
          "name": "stdout",
          "text": [
            "   Row ID        Order ID Order Date  Ship Date       Ship Mode Customer ID  \\\n",
            "0       1  CA-2013-152156 2013-11-09 2013-11-12    Second Class    CG-12520   \n",
            "1       2  CA-2015-152156 2015-11-09 2015-11-12    Second Class    CG-12520   \n",
            "2       3  CA-2015-138688 2015-06-13 2015-06-17    Second Class    DV-13045   \n",
            "3       4  US-2012-108966 2012-10-11 2012-10-18  Standard Class    SO-20335   \n",
            "4       5  US-2012-108966 2012-10-11 2012-10-18  Standard Class    SO-20335   \n",
            "\n",
            "     Customer Name    Segment        Country             City  ...  \\\n",
            "0      Claire Gute   Consumer  United States        Henderson  ...   \n",
            "1      Claire Gute   Consumer  United States        Henderson  ...   \n",
            "2  Darrin Van Huff  Corporate  United States      Los Angeles  ...   \n",
            "3   Sean O'Donnell   Consumer  United States  Fort Lauderdale  ...   \n",
            "4   Sean O'Donnell   Consumer  United States  Fort Lauderdale  ...   \n",
            "\n",
            "        Product ID         Category Sub-Category  \\\n",
            "0  FUR-BO-10001798        Furniture    Bookcases   \n",
            "1  FUR-CH-10000454        Furniture       Chairs   \n",
            "2  OFF-LA-10000240  Office Supplies       Labels   \n",
            "3  FUR-TA-10000577        Furniture       Tables   \n",
            "4  OFF-ST-10000760  Office Supplies      Storage   \n",
            "\n",
            "                                        Product Name     Sales Quantity  \\\n",
            "0                  Bush Somerset Collection Bookcase  261.9600        2   \n",
            "1  Hon Deluxe Fabric Upholstered Stacking Chairs,...  731.9400        3   \n",
            "2  Self-Adhesive Address Labels for Typewriters b...   14.6200        2   \n",
            "3      Bretford CR4500 Series Slim Rectangular Table  957.5775        5   \n",
            "4                     Eldon Fold 'N Roll Cart System   22.3680        2   \n",
            "\n",
            "  Discount     Profit   age  payment_method  \n",
            "0     0.00     $41.91    28     Credit Card  \n",
            "1     0.00    $219.58    28      Debit Card  \n",
            "2     0.00      $6.87    20            Cash  \n",
            "3     0.45   $-383.03    66     Credit Card  \n",
            "4     0.20      $2.52    66            Cash  \n",
            "\n",
            "[5 rows x 23 columns]\n"
          ]
        }
      ]
    },
    {
      "cell_type": "markdown",
      "source": [
        "To enhance the dataset for analysis, I  will add 2 columns, 'Order Year' and 'Order Month' from the existing 'Order Date' column. Firsty converted Order Date to be a dtetime using Pandas with the format \"%d/%m/%Y\". I extracted the Year and Month from 'Order Date' using the dt.year and dt.month accessor to complete this."
      ],
      "metadata": {
        "id": "9ZwGUQlqkVg9"
      }
    },
    {
      "cell_type": "code",
      "source": [
        "\n",
        "\n",
        "MainDf['Order Year']= MainDf['Order Date'].dt.year\n",
        "MainDf['Order Month']= MainDf['Order Date'].dt.strftime('%B')"
      ],
      "metadata": {
        "id": "-Ho2gV5kh_Cl"
      },
      "execution_count": 68,
      "outputs": []
    },
    {
      "cell_type": "markdown",
      "source": [
        "Add a new column called 'Age Range' that gets the get range of all consumers"
      ],
      "metadata": {
        "id": "zfJOTczGoVFy"
      }
    },
    {
      "cell_type": "code",
      "source": [
        "bins=[0,17,24,34,44,54,64,120]\n",
        "labels=['under 18','18-24','25-34','35-44','45-54','55-64','65+']"
      ],
      "metadata": {
        "id": "u_WLvIKembNF"
      },
      "execution_count": 69,
      "outputs": []
    },
    {
      "cell_type": "code",
      "source": [
        "MainDf['Age Range']=pd.cut(MainDf['age'],bins=bins,labels=labels,right=True)"
      ],
      "metadata": {
        "id": "ojMdWyk3m7Yq"
      },
      "execution_count": 70,
      "outputs": []
    },
    {
      "cell_type": "code",
      "source": [
        "print(MainDf.head())"
      ],
      "metadata": {
        "colab": {
          "base_uri": "https://localhost:8080/"
        },
        "id": "hFFy1P54iTjf",
        "outputId": "6bb04550-5303-4ec5-b48d-47133bcd2729"
      },
      "execution_count": 71,
      "outputs": [
        {
          "output_type": "stream",
          "name": "stdout",
          "text": [
            "   Row ID        Order ID Order Date  Ship Date       Ship Mode Customer ID  \\\n",
            "0       1  CA-2013-152156 2013-11-09 2013-11-12    Second Class    CG-12520   \n",
            "1       2  CA-2015-152156 2015-11-09 2015-11-12    Second Class    CG-12520   \n",
            "2       3  CA-2015-138688 2015-06-13 2015-06-17    Second Class    DV-13045   \n",
            "3       4  US-2012-108966 2012-10-11 2012-10-18  Standard Class    SO-20335   \n",
            "4       5  US-2012-108966 2012-10-11 2012-10-18  Standard Class    SO-20335   \n",
            "\n",
            "     Customer Name    Segment        Country             City  ...  \\\n",
            "0      Claire Gute   Consumer  United States        Henderson  ...   \n",
            "1      Claire Gute   Consumer  United States        Henderson  ...   \n",
            "2  Darrin Van Huff  Corporate  United States      Los Angeles  ...   \n",
            "3   Sean O'Donnell   Consumer  United States  Fort Lauderdale  ...   \n",
            "4   Sean O'Donnell   Consumer  United States  Fort Lauderdale  ...   \n",
            "\n",
            "                                        Product Name     Sales Quantity  \\\n",
            "0                  Bush Somerset Collection Bookcase  261.9600        2   \n",
            "1  Hon Deluxe Fabric Upholstered Stacking Chairs,...  731.9400        3   \n",
            "2  Self-Adhesive Address Labels for Typewriters b...   14.6200        2   \n",
            "3      Bretford CR4500 Series Slim Rectangular Table  957.5775        5   \n",
            "4                     Eldon Fold 'N Roll Cart System   22.3680        2   \n",
            "\n",
            "  Discount     Profit  age payment_method  Order Year  Order Month  Age Range  \n",
            "0     0.00     $41.91   28    Credit Card        2013     November      25-34  \n",
            "1     0.00    $219.58   28     Debit Card        2015     November      25-34  \n",
            "2     0.00      $6.87   20           Cash        2015         June      18-24  \n",
            "3     0.45   $-383.03   66    Credit Card        2012      October        65+  \n",
            "4     0.20      $2.52   66           Cash        2012      October        65+  \n",
            "\n",
            "[5 rows x 26 columns]\n"
          ]
        }
      ]
    },
    {
      "cell_type": "markdown",
      "source": [
        "Save processed and cleaned data to a csv file"
      ],
      "metadata": {
        "id": "h4okxT5BlibZ"
      }
    },
    {
      "cell_type": "code",
      "source": [
        "MainDf.to_csv('SuperstoreProcessed.csv',index=False)\n",
        "from google.colab import files\n",
        "files.download('SuperstoreProcessed.csv')"
      ],
      "metadata": {
        "colab": {
          "base_uri": "https://localhost:8080/",
          "height": 17
        },
        "id": "XR0yMR-flhvr",
        "outputId": "e757b715-94a0-4f99-d0b0-30625a1bca3f"
      },
      "execution_count": 72,
      "outputs": [
        {
          "output_type": "display_data",
          "data": {
            "text/plain": [
              "<IPython.core.display.Javascript object>"
            ],
            "application/javascript": [
              "\n",
              "    async function download(id, filename, size) {\n",
              "      if (!google.colab.kernel.accessAllowed) {\n",
              "        return;\n",
              "      }\n",
              "      const div = document.createElement('div');\n",
              "      const label = document.createElement('label');\n",
              "      label.textContent = `Downloading \"${filename}\": `;\n",
              "      div.appendChild(label);\n",
              "      const progress = document.createElement('progress');\n",
              "      progress.max = size;\n",
              "      div.appendChild(progress);\n",
              "      document.body.appendChild(div);\n",
              "\n",
              "      const buffers = [];\n",
              "      let downloaded = 0;\n",
              "\n",
              "      const channel = await google.colab.kernel.comms.open(id);\n",
              "      // Send a message to notify the kernel that we're ready.\n",
              "      channel.send({})\n",
              "\n",
              "      for await (const message of channel.messages) {\n",
              "        // Send a message to notify the kernel that we're ready.\n",
              "        channel.send({})\n",
              "        if (message.buffers) {\n",
              "          for (const buffer of message.buffers) {\n",
              "            buffers.push(buffer);\n",
              "            downloaded += buffer.byteLength;\n",
              "            progress.value = downloaded;\n",
              "          }\n",
              "        }\n",
              "      }\n",
              "      const blob = new Blob(buffers, {type: 'application/binary'});\n",
              "      const a = document.createElement('a');\n",
              "      a.href = window.URL.createObjectURL(blob);\n",
              "      a.download = filename;\n",
              "      div.appendChild(a);\n",
              "      a.click();\n",
              "      div.remove();\n",
              "    }\n",
              "  "
            ]
          },
          "metadata": {}
        },
        {
          "output_type": "display_data",
          "data": {
            "text/plain": [
              "<IPython.core.display.Javascript object>"
            ],
            "application/javascript": [
              "download(\"download_8e23c6b5-7f6f-4249-b043-f859e738ce73\", \"SuperstoreProcessed.csv\", 2620302)"
            ]
          },
          "metadata": {}
        }
      ]
    }
  ]
}